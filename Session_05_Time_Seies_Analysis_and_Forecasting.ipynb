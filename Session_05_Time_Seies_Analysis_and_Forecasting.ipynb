{
  "nbformat": 4,
  "nbformat_minor": 0,
  "metadata": {
    "colab": {
      "provenance": []
    },
    "kernelspec": {
      "name": "python3",
      "display_name": "Python 3"
    },
    "language_info": {
      "name": "python"
    }
  },
  "cells": [
    {
      "cell_type": "markdown",
      "source": [
        "# **Predicting next day's Stock price**"
      ],
      "metadata": {
        "id": "cNeMzvIZMNWl"
      }
    },
    {
      "cell_type": "code",
      "execution_count": null,
      "metadata": {
        "id": "mDawdJvWMMR7",
        "outputId": "fb94941f-1ad4-4abf-827d-22dffce076d2",
        "colab": {
          "base_uri": "https://localhost:8080/"
        }
      },
      "outputs": [
        {
          "output_type": "stream",
          "name": "stderr",
          "text": [
            "\r[*********************100%***********************]  1 of 1 completed\n",
            "/usr/local/lib/python3.12/dist-packages/statsmodels/tsa/base/tsa_model.py:473: ValueWarning: A date index has been provided, but it has no associated frequency information and so will be ignored when e.g. forecasting.\n",
            "  self._init_dates(dates, freq)\n",
            "/usr/local/lib/python3.12/dist-packages/statsmodels/tsa/base/tsa_model.py:473: ValueWarning: A date index has been provided, but it has no associated frequency information and so will be ignored when e.g. forecasting.\n",
            "  self._init_dates(dates, freq)\n",
            "/usr/local/lib/python3.12/dist-packages/statsmodels/tsa/base/tsa_model.py:473: ValueWarning: A date index has been provided, but it has no associated frequency information and so will be ignored when e.g. forecasting.\n",
            "  self._init_dates(dates, freq)\n",
            "/usr/local/lib/python3.12/dist-packages/arch/univariate/base.py:309: DataScaleWarning: y is poorly scaled, which may affect convergence of the optimizer when\n",
            "estimating the model parameters. The scale of y is 0.0003943. Parameter\n",
            "estimation work better when this value is between 1 and 1000. The recommended\n",
            "rescaling is 100 * y.\n",
            "\n",
            "This warning can be disabled by either rescaling y before initializing the\n",
            "model or by setting rescale=False.\n",
            "\n",
            "  warnings.warn(\n",
            "/usr/local/lib/python3.12/dist-packages/statsmodels/tsa/base/tsa_model.py:837: ValueWarning: No supported index is available. Prediction results will be given with an integer index beginning at `start`.\n",
            "  return get_prediction_index(\n",
            "/usr/local/lib/python3.12/dist-packages/statsmodels/tsa/base/tsa_model.py:837: FutureWarning: No supported index is available. In the next version, calling this method in a model without a supported index will result in an exception.\n",
            "  return get_prediction_index(\n"
          ]
        },
        {
          "output_type": "stream",
          "name": "stdout",
          "text": [
            "Iteration:      1,   Func. Count:      6,   Neg. LLF: 1.6286233175129682e+19\n",
            "Iteration:      2,   Func. Count:     19,   Neg. LLF: 15903.54997138945\n",
            "Iteration:      3,   Func. Count:     29,   Neg. LLF: 37208153.09941632\n",
            "Iteration:      4,   Func. Count:     41,   Neg. LLF: 154730715621900.0\n",
            "Iteration:      5,   Func. Count:     56,   Neg. LLF: 37659.919669164476\n",
            "Iteration:      6,   Func. Count:     64,   Neg. LLF: 9118238248262.8\n",
            "Iteration:      7,   Func. Count:     77,   Neg. LLF: -1406.0224194954917\n",
            "Iteration:      8,   Func. Count:     87,   Neg. LLF: 26762.87279572933\n",
            "Iteration:      9,   Func. Count:     98,   Neg. LLF: -3752.3692331031552\n",
            "Iteration:     10,   Func. Count:    106,   Neg. LLF: -1619.0756637737468\n",
            "Iteration:     11,   Func. Count:    113,   Neg. LLF: -3675.4786555563883\n",
            "Iteration:     12,   Func. Count:    120,   Neg. LLF: -3802.252255026544\n",
            "Iteration:     13,   Func. Count:    128,   Neg. LLF: -3931.287450349214\n",
            "Iteration:     14,   Func. Count:    135,   Neg. LLF: -3933.601013293557\n",
            "Iteration:     15,   Func. Count:    140,   Neg. LLF: -3933.6010180293097\n",
            "Iteration:     16,   Func. Count:    145,   Neg. LLF: -3933.6010224285474\n",
            "Iteration:     17,   Func. Count:    149,   Neg. LLF: -3933.6010224285355\n",
            "Optimization terminated successfully    (Exit mode 0)\n",
            "            Current function value: -3933.6010224285474\n",
            "            Iterations: 21\n",
            "            Function evaluations: 149\n",
            "            Gradient evaluations: 17\n",
            "Forecasted Return: 1508    0.001675\n",
            "dtype: float64\n",
            "Forecasted Volatility:                  h.1       h.2       h.3       h.4       h.5\n",
            "Date                                                        \n",
            "2023-12-29  0.000124  0.000134  0.000144  0.000153  0.000162\n",
            "\n",
            "🔮 Forecasted Return for Next Day: 0.001675\n",
            "👉 This means the stock is expected to move by 0.17% tomorrow.\n",
            "\n",
            "📉 Forecasted Volatility (Standard Deviation) for Next 5 Days:\n",
            "Day 1: Variance = 0.00012440, Volatility ≈ 1.12%\n",
            "Day 2: Variance = 0.00013427, Volatility ≈ 1.16%\n",
            "Day 3: Variance = 0.00014384, Volatility ≈ 1.20%\n",
            "Day 4: Variance = 0.00015311, Volatility ≈ 1.24%\n",
            "Day 5: Variance = 0.00016210, Volatility ≈ 1.27%\n",
            "📌 Last known price (2023-12-29): 190.91\n",
            "📈 Forecasted Price for 2024-01-02: $191.23\n"
          ]
        },
        {
          "output_type": "stream",
          "name": "stderr",
          "text": [
            "\r[*********************100%***********************]  1 of 1 completed"
          ]
        },
        {
          "output_type": "stream",
          "name": "stdout",
          "text": [
            "Price            Close        High         Low        Open    Volume\n",
            "Ticker            AAPL        AAPL        AAPL        AAPL      AAPL\n",
            "Date                                                                \n",
            "2024-01-02  184.081512  186.858009  182.346204  185.578830  82488700\n",
            "2024-01-03  182.703171  184.319491  181.890048  182.673424  58414500\n"
          ]
        },
        {
          "output_type": "stream",
          "name": "stderr",
          "text": [
            "\n"
          ]
        }
      ],
      "source": [
        "\"\"\"\n",
        "AAPL is the stock ticker symbol for Apple Inc., one of the largest and most well-known technology companies in the world.\n",
        "📌 Basic Info:\n",
        "Company: Apple Inc.\n",
        "Ticker: AAPL\n",
        "Exchange: NASDAQ\n",
        "Industry: Consumer Electronics / Technology\n",
        "Famous Products: iPhone, Mac, iPad, Apple Watch, AirPods, etc.\n",
        "\"\"\"\n",
        "\n",
        "#Step 1: Get the Data\n",
        "\n",
        "import yfinance as yf\n",
        "#If you want to analyze another company, you'd replace 'AAPL' with the relevant ticker (e.g., 'MSFT' for Microsoft, 'GOOGL' for Alphabet/Google, 'TSLA' for Tesla, etc.).\n",
        "data = yf.download('AAPL', start='2018-01-01', end='2023-12-31',auto_adjust=True)\n",
        "\n",
        "\n",
        "#Ensure Consistency in Column Naming - Sometimes auto_adjust=True still puts data under 'Close' column. This ensures we uniformly refer to it as 'Adj Close'.\n",
        "if 'Close' in data.columns:\n",
        "    data = data.rename(columns={'Close': 'Adj Close'})\n",
        "\n",
        "\n",
        "#Step 2: Convert Price to Returns (Because prices are non-stationary)\n",
        "\n",
        "import numpy as np\n",
        "#If you want to analyze another company, you'd replace 'AAPL' with the relevant ticker (e.g., 'MSFT' for Microsoft, 'GOOGL' for Alphabet/Google, 'TSLA' for Tesla, etc.).\n",
        "data['Returns'] = np.log(data['Adj Close'] / data['Adj Close'].shift(1)).dropna()\n",
        "\n",
        "\n",
        "#Step 3: Fit ARMA to Returns (to model mean)\n",
        "\n",
        "from statsmodels.tsa.arima.model import ARIMA\n",
        "\n",
        "# ARMA is ARIMA with d=0\n",
        "model_arma = ARIMA(data['Returns'].dropna(), order=(1, 0, 1))\n",
        "arma_result = model_arma.fit()\n",
        "#Step 4: Use GARCH on residuals (to model volatility)\n",
        "from arch import arch_model\n",
        "# Use residuals from ARMA\n",
        "residuals = arma_result.resid\n",
        "# GARCH(1,1) model\n",
        "model_garch = arch_model(residuals, vol='GARCH', p=1, q=1)\n",
        "garch_result = model_garch.fit()\n",
        "\n",
        "\n",
        "#Step 5: Forecast returns & volatility\n",
        "\n",
        "# Forecast next day's return\n",
        "arma_forecast = arma_result.forecast(steps=1)\n",
        "print(\"Forecasted Return:\", arma_forecast)\n",
        "\n",
        "# Forecast volatility\n",
        "garch_forecast = garch_result.forecast(horizon=5)\n",
        "print(\"Forecasted Volatility:\", garch_forecast.variance[-1:])\n",
        "\n",
        "\n",
        "# Print Fancy\n",
        "import numpy as np\n",
        "\n",
        "# Print return forecast\n",
        "predicted_return = arma_forecast.iloc[0]\n",
        "print(f\"\\n🔮 Forecasted Return for Next Day: {predicted_return:.6f}\")\n",
        "print(f\"👉 This means the stock is expected to move by {predicted_return * 100:.2f}% tomorrow.\\n\")\n",
        "\n",
        "# Print GARCH volatility forecast\n",
        "volatility_forecast = garch_result.forecast(horizon=5)\n",
        "forecast_variance = volatility_forecast.variance[-1:]\n",
        "\n",
        "# Print volatility forecast\n",
        "print(\"📉 Forecasted Volatility (Standard Deviation) for Next 5 Days:\")\n",
        "for i in range(5):\n",
        "    var = forecast_variance.iloc[0, i]\n",
        "    std = np.sqrt(var)\n",
        "    print(f\"Day {i+1}: Variance = {var:.8f}, Volatility ≈ {std*100:.2f}%\")\n",
        "\n",
        "\n",
        "last_price = data['Adj Close'].iloc[-1]\n",
        "print(f\"📌 Last known price (2023-12-29): {last_price.iloc[0]:.2f}\")\n",
        "\n",
        "# Calculate forecasted price\n",
        "forecasted_price = last_price.iloc[0] * np.exp(predicted_return)\n",
        "print(f\"📈 Forecasted Price for 2024-01-02: ${forecasted_price:.2f}\")\n",
        "\n",
        "# Download 2 days after forecast to ensure market open day is included\n",
        "actual_data = yf.download('AAPL', start='2024-01-02', end='2024-01-04', auto_adjust=True)\n",
        "print(actual_data)\n",
        "\n",
        "# Ensure Consistency in Column Naming - Sometimes auto_adjust=True still puts data under 'Close' column. This ensures we uniformly refer to it as 'Adj Close'.\n",
        "if 'Close' in actual_data.columns:\n",
        "    actual_data = actual_data.rename(columns={'Close': 'Adj Close'})\n",
        "\n"
      ]
    },
    {
      "cell_type": "code",
      "metadata": {
        "colab": {
          "base_uri": "https://localhost:8080/"
        },
        "id": "815e9270",
        "outputId": "f69e673d-846a-42dd-d63f-d63d897f050d"
      },
      "source": [
        "%pip install arch -qq"
      ],
      "execution_count": null,
      "outputs": [
        {
          "output_type": "stream",
          "name": "stdout",
          "text": [
            "\u001b[?25l   \u001b[90m━━━━━━━━━━━━━━━━━━━━━━━━━━━━━━━━━━━━━━━━\u001b[0m \u001b[32m0.0/978.3 kB\u001b[0m \u001b[31m?\u001b[0m eta \u001b[36m-:--:--\u001b[0m\r\u001b[2K   \u001b[91m━━━━━━━━━━━━━━━━━━━━━━━━━━━━━━━━━━━━━━━\u001b[0m\u001b[91m╸\u001b[0m \u001b[32m972.8/978.3 kB\u001b[0m \u001b[31m29.6 MB/s\u001b[0m eta \u001b[36m0:00:01\u001b[0m\r\u001b[2K   \u001b[90m━━━━━━━━━━━━━━━━━━━━━━━━━━━━━━━━━━━━━━━━\u001b[0m \u001b[32m978.3/978.3 kB\u001b[0m \u001b[31m17.4 MB/s\u001b[0m eta \u001b[36m0:00:00\u001b[0m\n",
            "\u001b[?25h"
          ]
        }
      ]
    },
    {
      "cell_type": "code",
      "metadata": {
        "colab": {
          "base_uri": "https://localhost:8080/",
          "height": 1000
        },
        "id": "52ae207e",
        "outputId": "b2767d18-d407-4ed3-95d3-5a684c2c4a56"
      },
      "source": [
        "\"\"\"\n",
        "AAPL is the stock ticker symbol for Apple Inc., one of the largest and most well-known technology companies in the world.\n",
        "📌 Basic Info:\n",
        "Company: Apple Inc.\n",
        "Ticker: AAPL\n",
        "Exchange: NASDAQ\n",
        "Industry: Consumer Electronics / Technology\n",
        "Famous Products: iPhone, Mac, iPad, Apple Watch, AirPods, etc.\n",
        "\"\"\"\n",
        "\n",
        "#Step 1: Get the Data\n",
        "\n",
        "import yfinance as yf\n",
        "#If you want to analyze another company, you'd replace 'AAPL' with the relevant ticker (e.g., 'MSFT' for Microsoft, 'GOOGL' for Alphabet/Google, 'TSLA' for Tesla, etc.).\n",
        "data = yf.download('MSFT', start='2017-01-01', end='2024-12-31',auto_adjust=True)\n",
        "\n",
        "\n",
        "#Ensure Consistency in Column Naming - Sometimes auto_adjust=True still puts data under 'Close' column. This ensures we uniformly refer to it as 'Adj Close'.\n",
        "if 'Close' in data.columns:\n",
        "    data = data.rename(columns={'Close': 'Adj Close'})\n",
        "\n",
        "\n",
        "#Step 2: Convert Price to Returns (Because prices are non-stationary)\n",
        "\n",
        "import numpy as np\n",
        "#If you want to analyze another company, you'd replace 'AAPL' with the relevant ticker (e.g., 'MSFT' for Microsoft, 'GOOGL' for Alphabet/Google, 'TSLA' for Tesla, etc.).\n",
        "data['Returns'] = np.log(data['Adj Close'] / data['Adj Close'].shift(1)).dropna()\n",
        "\n",
        "\n",
        "#Step 3: Fit ARMA to Returns (to model mean)\n",
        "\n",
        "from statsmodels.tsa.arima.model import ARIMA\n",
        "\n",
        "# ARMA is ARIMA with d=0\n",
        "model_arma = ARIMA(data['Returns'].dropna(), order=(1, 0, 1))\n",
        "arma_result = model_arma.fit()\n",
        "#Step 4: Use GARCH on residuals (to model volatility)\n",
        "from arch import arch_model\n",
        "# Use residuals from ARMA\n",
        "residuals = arma_result.resid\n",
        "# GARCH(1,1) model\n",
        "model_garch = arch_model(residuals, vol='GARCH', p=1, q=1)\n",
        "garch_result = model_garch.fit()\n",
        "\n",
        "\n",
        "#Step 5: Forecast returns & volatility\n",
        "\n",
        "# Forecast next day's return\n",
        "arma_forecast = arma_result.forecast(steps=1)\n",
        "print(\"Forecasted Return:\", arma_forecast)\n",
        "\n",
        "# Forecast volatility\n",
        "garch_forecast = garch_result.forecast(horizon=5)\n",
        "print(\"Forecasted Volatility:\", garch_forecast.variance[-1:])\n",
        "\n",
        "\n",
        "# Print Fancy\n",
        "import numpy as np\n",
        "\n",
        "# Print return forecast\n",
        "predicted_return = arma_forecast.iloc[0]\n",
        "print(f\"\\n🔮 Forecasted Return for Next Day: {predicted_return:.6f}\")\n",
        "print(f\"👉 This means the stock is expected to move by {predicted_return * 100:.2f}% tomorrow.\\n\")\n",
        "\n",
        "# Print GARCH volatility forecast\n",
        "volatility_forecast = garch_result.forecast(horizon=5)\n",
        "forecast_variance = volatility_forecast.variance[-1:]\n",
        "\n",
        "# Print volatility forecast\n",
        "print(\"📉 Forecasted Volatility (Standard Deviation) for Next 5 Days:\")\n",
        "for i in range(5):\n",
        "    var = forecast_variance.iloc[0, i]\n",
        "    std = np.sqrt(var)\n",
        "    print(f\"Day {i+1}: Variance = {var:.8f}, Volatility ≈ {std*100:.2f}%\")\n",
        "\n",
        "\n",
        "last_price = data['Adj Close'].iloc[-1]  # Ensure scalar extraction if it's still a series\n",
        "print(f\"📌 Last known price (2023-12-29): {last_price:.2f}\")\n",
        "\n",
        "\n",
        "# Calculate forecasted price\n",
        "forecasted_price = last_price * np.exp(predicted_return)\n",
        "print(f\"📈 Forecasted Price for 2024-01-02: ${forecasted_price:.2f}\")\n",
        "\n",
        "# Download 2 days after forecast to ensure market open day is included\n",
        "actual_data = yf.download('MSFT', start='2024-01-02', end='2024-01-04', auto_adjust=True)\n",
        "print(actual_data)\n",
        "\n",
        "# Ensure Consistency in Column Naming - Sometimes auto_adjust=True still puts data under 'Close' column. This ensures we uniformly refer to it as 'Adj Close'.\n",
        "if 'Close' in actual_data.columns:\n",
        "    actual_data = actual_data.rename(columns={'Close': 'Adj Close'})\n",
        "\n",
        "# Prepare data for visualization\n",
        "import pandas as pd\n",
        "\n",
        "# Combine historical and forecasted data\n",
        "visualization_data = data['Adj Close'].copy().to_frame()\n",
        "visualization_data.columns = ['Adj Close']\n",
        "\n",
        "# Add the forecasted price\n",
        "last_date = visualization_data.index[-1]\n",
        "forecast_date = last_date + pd.Timedelta(days=1) # Assume next day for simplicity, adjust if needed\n",
        "\n",
        "# Check if forecast_date is already in the index to avoid duplicates\n",
        "if forecast_date not in visualization_data.index:\n",
        "    visualization_data.loc[forecast_date, 'Adj Close'] = forecasted_price\n",
        "\n",
        "# Add the actual price if available\n",
        "if not actual_data.empty:\n",
        "    # Find the first available actual date\n",
        "    first_actual_date = actual_data.index[0]\n",
        "    if first_actual_date in actual_data.index:\n",
        "        actual_price = actual_data.loc[first_actual_date, 'Adj Close']\n",
        "        visualization_data.loc[first_actual_date, 'Actual Close'] = actual_price\n",
        "\n",
        "# Ensure the index is sorted\n",
        "visualization_data = visualization_data.sort_index()"
      ],
      "execution_count": null,
      "outputs": [
        {
          "output_type": "stream",
          "name": "stderr",
          "text": [
            "\r[*********************100%***********************]  1 of 1 completed\n",
            "/usr/local/lib/python3.12/dist-packages/statsmodels/tsa/base/tsa_model.py:473: ValueWarning: A date index has been provided, but it has no associated frequency information and so will be ignored when e.g. forecasting.\n",
            "  self._init_dates(dates, freq)\n",
            "/usr/local/lib/python3.12/dist-packages/statsmodels/tsa/base/tsa_model.py:473: ValueWarning: A date index has been provided, but it has no associated frequency information and so will be ignored when e.g. forecasting.\n",
            "  self._init_dates(dates, freq)\n",
            "/usr/local/lib/python3.12/dist-packages/statsmodels/tsa/base/tsa_model.py:473: ValueWarning: A date index has been provided, but it has no associated frequency information and so will be ignored when e.g. forecasting.\n",
            "  self._init_dates(dates, freq)\n",
            "/usr/local/lib/python3.12/dist-packages/statsmodels/base/model.py:607: ConvergenceWarning: Maximum Likelihood optimization failed to converge. Check mle_retvals\n",
            "  warnings.warn(\"Maximum Likelihood optimization failed to \"\n"
          ]
        },
        {
          "output_type": "stream",
          "name": "stdout",
          "text": [
            "Iteration:      1,   Func. Count:      6,   Neg. LLF: 1619144098.1169274\n",
            "Iteration:      2,   Func. Count:     18,   Neg. LLF: 5.288435311201035e+17\n",
            "Iteration:      3,   Func. Count:     30,   Neg. LLF: 1876315684746.5303\n",
            "Iteration:      4,   Func. Count:     45,   Neg. LLF: 1.340953202060273e+16\n",
            "Iteration:      5,   Func. Count:     57,   Neg. LLF: 1879871461598.645\n",
            "Iteration:      6,   Func. Count:     72,   Neg. LLF: 7.012251779967739e+16\n",
            "Iteration:      7,   Func. Count:     84,   Neg. LLF: 1892449449107.5732\n",
            "Iteration:      8,   Func. Count:     99,   Neg. LLF: 7.160819089236033e+16\n",
            "Iteration:      9,   Func. Count:    111,   Neg. LLF: 1969326631539.7341\n",
            "Iteration:     10,   Func. Count:    125,   Neg. LLF: -5574.037116045629\n",
            "Optimization terminated successfully    (Exit mode 0)\n",
            "            Current function value: -5574.037111177211\n",
            "            Iterations: 14\n",
            "            Function evaluations: 125\n",
            "            Gradient evaluations: 10\n",
            "Forecasted Return: 2010    0.004262\n",
            "dtype: float64\n",
            "Forecasted Volatility:                  h.1      h.2       h.3       h.4       h.5\n",
            "Date                                                       \n",
            "2024-12-30  0.000208  0.00021  0.000211  0.000213  0.000214\n",
            "\n",
            "🔮 Forecasted Return for Next Day: 0.004262\n",
            "👉 This means the stock is expected to move by 0.43% tomorrow.\n",
            "\n",
            "📉 Forecasted Volatility (Standard Deviation) for Next 5 Days:\n",
            "Day 1: Variance = 0.00020796, Volatility ≈ 1.44%\n",
            "Day 2: Variance = 0.00020963, Volatility ≈ 1.45%\n",
            "Day 3: Variance = 0.00021127, Volatility ≈ 1.45%\n",
            "Day 4: Variance = 0.00021287, Volatility ≈ 1.46%\n",
            "Day 5: Variance = 0.00021445, Volatility ≈ 1.46%\n"
          ]
        },
        {
          "output_type": "stream",
          "name": "stderr",
          "text": [
            "/usr/local/lib/python3.12/dist-packages/arch/univariate/base.py:309: DataScaleWarning: y is poorly scaled, which may affect convergence of the optimizer when\n",
            "estimating the model parameters. The scale of y is 0.0002915. Parameter\n",
            "estimation work better when this value is between 1 and 1000. The recommended\n",
            "rescaling is 100 * y.\n",
            "\n",
            "This warning can be disabled by either rescaling y before initializing the\n",
            "model or by setting rescale=False.\n",
            "\n",
            "  warnings.warn(\n",
            "/usr/local/lib/python3.12/dist-packages/statsmodels/tsa/base/tsa_model.py:837: ValueWarning: No supported index is available. Prediction results will be given with an integer index beginning at `start`.\n",
            "  return get_prediction_index(\n",
            "/usr/local/lib/python3.12/dist-packages/statsmodels/tsa/base/tsa_model.py:837: FutureWarning: No supported index is available. In the next version, calling this method in a model without a supported index will result in an exception.\n",
            "  return get_prediction_index(\n"
          ]
        },
        {
          "output_type": "error",
          "ename": "TypeError",
          "evalue": "unsupported format string passed to Series.__format__",
          "traceback": [
            "\u001b[0;31m---------------------------------------------------------------------------\u001b[0m",
            "\u001b[0;31mTypeError\u001b[0m                                 Traceback (most recent call last)",
            "\u001b[0;32m/tmp/ipython-input-2805272476.py\u001b[0m in \u001b[0;36m<cell line: 0>\u001b[0;34m()\u001b[0m\n\u001b[1;32m     76\u001b[0m \u001b[0;34m\u001b[0m\u001b[0m\n\u001b[1;32m     77\u001b[0m \u001b[0mlast_price\u001b[0m \u001b[0;34m=\u001b[0m \u001b[0mdata\u001b[0m\u001b[0;34m[\u001b[0m\u001b[0;34m'Adj Close'\u001b[0m\u001b[0;34m]\u001b[0m\u001b[0;34m.\u001b[0m\u001b[0miloc\u001b[0m\u001b[0;34m[\u001b[0m\u001b[0;34m-\u001b[0m\u001b[0;36m1\u001b[0m\u001b[0;34m]\u001b[0m  \u001b[0;31m# Ensure scalar extraction if it's still a series\u001b[0m\u001b[0;34m\u001b[0m\u001b[0;34m\u001b[0m\u001b[0m\n\u001b[0;32m---> 78\u001b[0;31m \u001b[0mprint\u001b[0m\u001b[0;34m(\u001b[0m\u001b[0;34mf\"📌 Last known price (2023-12-29): {last_price:.2f}\"\u001b[0m\u001b[0;34m)\u001b[0m\u001b[0;34m\u001b[0m\u001b[0;34m\u001b[0m\u001b[0m\n\u001b[0m\u001b[1;32m     79\u001b[0m \u001b[0;34m\u001b[0m\u001b[0m\n\u001b[1;32m     80\u001b[0m \u001b[0;34m\u001b[0m\u001b[0m\n",
            "\u001b[0;31mTypeError\u001b[0m: unsupported format string passed to Series.__format__"
          ]
        }
      ]
    },
    {
      "cell_type": "markdown",
      "metadata": {
        "id": "f8019ef7"
      },
      "source": [
        "## Interpretation of Results\n",
        "\n",
        "Based on the analysis performed:\n",
        "\n",
        "*   **Forecasted Return:** The ARMA-GARCH model forecasted a return of **{{predicted_return:.6f}}** for the next trading day. This suggests an expected price movement of approximately **{{predicted_return * 100:.2f}}%**.\n",
        "\n",
        "*   **Forecasted Volatility (Standard Deviation):** The GARCH model forecasted the following volatility (standard deviation) for the next 5 days:\n",
        "    *   Day 1: Approximately **{{np.sqrt(forecast_variance.iloc[0, 0])*100:.2f}}%**\n",
        "    *   Day 2: Approximately **{{np.sqrt(forecast_variance.iloc[0, 1])*100:.2f}}%**\n",
        "    *   Day 3: Approximately **{{np.sqrt(forecast_variance.iloc[0, 2])*100:.2f}}%**\n",
        "    *   Day 4: Approximately **{{np.sqrt(forecast_variance.iloc[0, 3])*100:.2f}}%**\n",
        "    *   Day 5: Approximately **{{np.sqrt(forecast_variance.iloc[0, 4])*100:.2f}}%**\n",
        "    This indicates the expected fluctuation range of the stock price over the next few days.\n",
        "\n",
        "*   **Last Known Price:** The last known adjusted closing price was **${{last_price:.2f}}**.\n",
        "\n",
        "*   **Forecasted Price:** Based on the forecasted return, the predicted price for the next trading day is **${{forecasted_price:.2f}}**.\n",
        "\n",
        "*   **Actual Price:** The actual adjusted closing price for the next trading day was **${{actual_price_scalar:.2f}}**.\n",
        "\n",
        "*   **Model Evaluation:**\n",
        "    *   **ARMA-GARCH Model:**\n",
        "        *   Mean Absolute Error (MAE): **{{mae:.2f}}**\n",
        "        *   Root Mean Squared Error (RMSE): **{{rmse:.2f}}**\n",
        "    *   **Baseline Model (Predicting Last Price):**\n",
        "        *   Baseline Mean Absolute Error (MAE): **{{baseline_mae:.2f}}**\n",
        "        *   Baseline Root Mean Squared Error (RMSE): **{{baseline_rmse:.2f}}**\n",
        "\n",
        "*   **Comparison:** In this specific instance, the ARMA-GARCH model had a **{{'lower' if mae < baseline_mae else 'higher'}}** Mean Absolute Error and a **{{'lower' if rmse < baseline_rmse else 'higher'}}** Root Mean Squared Error compared to the baseline model of simply predicting the last known price.\n",
        "\n",
        "**Interpretation:**\n",
        "\n",
        "The ARMA-GARCH model provided a specific forecast for the next day's return and volatility. By comparing the forecasted price to the actual price, we can see how accurate the point forecast was. The MAE and RMSE metrics quantify the average error magnitude for both the ARMA-GARCH model and the baseline model. In this case, the ARMA-GARCH model did not significantly outperform the simple baseline for this single-day forecast based on these metrics. This suggests that for this particular prediction, the complex model did not capture the price movement better than just assuming the price would stay the same as the previous day. Further analysis, potentially through backtesting over a longer period, would be needed to determine if the ARMA-GARCH model has better predictive power in general compared to the baseline."
      ]
    },
    {
      "cell_type": "code",
      "metadata": {
        "colab": {
          "base_uri": "https://localhost:8080/"
        },
        "id": "226a6ee5",
        "outputId": "c94626fe-4007-4f1f-d628-c33b9f11fa97"
      },
      "source": [
        "baseline_forecast = last_price\n",
        "\n",
        "# Calculate MAE for the baseline model\n",
        "baseline_mae = mean_absolute_error([actual_price_scalar], [baseline_forecast])\n",
        "print(f\"Baseline Mean Absolute Error (predicting last price): {baseline_mae:.2f}\")\n",
        "\n",
        "# Calculate RMSE for the baseline model\n",
        "baseline_rmse = np.sqrt(mean_squared_error([actual_price_scalar], [baseline_forecast]))\n",
        "print(f\"Baseline Root Mean Squared Error (predicting last price): {baseline_rmse:.2f}\")\n",
        "\n",
        "# Compare with ARMA-GARCH model metrics\n",
        "print(\"\\n--- Comparison ---\")\n",
        "print(f\"ARMA-GARCH MAE: {mae:.2f}\")\n",
        "print(f\"Baseline MAE: {baseline_mae:.2f}\")\n",
        "print(f\"ARMA-GARCH RMSE: {rmse:.2f}\")\n",
        "print(f\"Baseline RMSE: {baseline_rmse:.2f}\")\n",
        "\n",
        "if mae < baseline_mae:\n",
        "    print(\"\\nARMA-GARCH model has a lower MAE than the baseline model.\")\n",
        "else:\n",
        "    print(\"\\nARMA-GARCH model does not have a lower MAE than the baseline model.\")\n",
        "\n",
        "if rmse < baseline_rmse:\n",
        "    print(\"ARMA-GARCH model has a lower RMSE than the baseline model.\")\n",
        "else:\n",
        "    print(\"ARMA-GARCH model does not have a lower RMSE than the baseline model.\")"
      ],
      "execution_count": null,
      "outputs": [
        {
          "output_type": "stream",
          "name": "stdout",
          "text": [
            "Baseline Mean Absolute Error (predicting last price): 238.43\n",
            "Baseline Root Mean Squared Error (predicting last price): 238.43\n",
            "\n",
            "--- Comparison ---\n",
            "ARMA-GARCH MAE: 240.23\n",
            "Baseline MAE: 238.43\n",
            "ARMA-GARCH RMSE: 240.23\n",
            "Baseline RMSE: 238.43\n",
            "\n",
            "ARMA-GARCH model does not have a lower MAE than the baseline model.\n",
            "ARMA-GARCH model does not have a lower RMSE than the baseline model.\n"
          ]
        }
      ]
    },
    {
      "cell_type": "code",
      "metadata": {
        "colab": {
          "base_uri": "https://localhost:8080/"
        },
        "id": "74fec588",
        "outputId": "0fe2d287-6530-44ae-f96b-185cf99dbf9f"
      },
      "source": [
        "from sklearn.metrics import mean_absolute_error, mean_squared_error\n",
        "import numpy as np\n",
        "\n",
        "# Ensure actual_price is a scalar value if it's a Series\n",
        "if isinstance(actual_price, pd.Series):\n",
        "    actual_price_scalar = actual_price.iloc[0]\n",
        "else:\n",
        "    actual_price_scalar = actual_price\n",
        "\n",
        "# Calculate MAE\n",
        "mae = mean_absolute_error([actual_price_scalar], [forecasted_price])\n",
        "print(f\"Mean Absolute Error (MAE): {mae:.2f}\")\n",
        "\n",
        "# Calculate RMSE\n",
        "rmse = np.sqrt(mean_squared_error([actual_price_scalar], [forecasted_price]))\n",
        "print(f\"Root Mean Squared Error (RMSE): {rmse:.2f}\")"
      ],
      "execution_count": null,
      "outputs": [
        {
          "output_type": "stream",
          "name": "stdout",
          "text": [
            "Mean Absolute Error (MAE): 240.23\n",
            "Root Mean Squared Error (RMSE): 240.23\n"
          ]
        }
      ]
    },
    {
      "cell_type": "code",
      "metadata": {
        "colab": {
          "base_uri": "https://localhost:8080/",
          "height": 564
        },
        "id": "6c09d3da",
        "outputId": "7723fcd8-0d3a-47a4-e644-39996a1fbe7f"
      },
      "source": [
        "# Visualize the results\n",
        "import matplotlib.pyplot as plt\n",
        "import pandas as pd # Import pandas here as well for Timedelta\n",
        "\n",
        "# Ensure forecast_date and last_date are defined for plotting even if actual_data is empty\n",
        "if 'forecast_date' not in locals():\n",
        "    last_date = visualization_data.index[-1]\n",
        "    forecast_date = last_date + pd.Timedelta(days=1) # Assume next day for simplicity, adjust if needed\n",
        "\n",
        "\n",
        "plt.figure(figsize=(12, 6))\n",
        "\n",
        "# Plot historical prices\n",
        "plt.plot(visualization_data['Adj Close'].dropna(), label='Historical and Forecasted Price', marker='o', markersize=4)\n",
        "\n",
        "# Plot the last known price\n",
        "plt.scatter(last_date, last_price, color='red', s=100, zorder=5, label='Last Known Price')\n",
        "\n",
        "# Plot the forecasted price\n",
        "plt.scatter(forecast_date, forecasted_price, color='green', s=100, zorder=5, label='Forecasted Price')\n",
        "\n",
        "# Plot the actual price if available\n",
        "if 'actual_data' in locals() and not actual_data.empty and forecast_date in actual_data.index:\n",
        "    actual_price = actual_data.loc[forecast_date, 'Adj Close']\n",
        "    plt.scatter(forecast_date, actual_price, color='purple', s=100, zorder=5, label='Actual Price')\n",
        "\n",
        "\n",
        "# Add titles and labels\n",
        "plt.title('Stock Price: Historical, Forecasted, and Actual')\n",
        "plt.xlabel('Date')\n",
        "plt.ylabel('Price ($)')\n",
        "plt.legend()\n",
        "plt.grid(True)\n",
        "\n",
        "# Display the plot\n",
        "plt.show()"
      ],
      "execution_count": null,
      "outputs": [
        {
          "output_type": "display_data",
          "data": {
            "text/plain": [
              "<Figure size 1200x600 with 1 Axes>"
            ],
            "image/png": "[encoded data removed]"
          },
          "metadata": {}
        }
      ]
    }
  ]
}