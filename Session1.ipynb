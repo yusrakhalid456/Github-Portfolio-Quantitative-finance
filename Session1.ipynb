{
  "nbformat": 4,
  "nbformat_minor": 0,
  "metadata": {
    "colab": {
      "provenance": []
    },
    "kernelspec": {
      "name": "python3",
      "display_name": "Python 3"
    },
    "language_info": {
      "name": "python"
    }
  },
  "cells": [
    {
      "cell_type": "markdown",
      "source": [],
      "metadata": {
        "id": "rcdNTG4Mtxj5"
      }
    },
    {
      "cell_type": "code",
      "source": [
        "# NPV Function\n",
        "def npv(rate, cash_flows):\n",
        "    total = 0   # start with zero\n",
        "    for t in range(len(cash_flows)):       # t = year number (0,1,2,...)\n",
        "        cash = cash_flows[t]               # cash in that year\n",
        "        total += cash / ((1 + rate) ** t)\n",
        "    return total\n",
        "\n",
        "# IRR Function\n",
        "\n",
        "def irr(cash_flows):\n",
        "    best_rate = None\n",
        "    best_npv = 9999999\n",
        "\n",
        "    # try rates from -90% to 100%\n",
        "    rate = -0.9\n",
        "    while rate <= 1.0:   # 1.0 = 100%\n",
        "        current_npv = npv(rate, cash_flows)\n",
        "        if abs(current_npv) < best_npv:   # is it closer to zero?\n",
        "            best_npv = abs(current_npv)\n",
        "            best_rate = rate\n",
        "        rate += 0.001   # increase rate a little (0.1%)\n",
        "    return best_rate\n",
        "\n",
        "def decision(cash_flows, discount_rate):\n",
        "    project_npv = npv(discount_rate, cash_flows)\n",
        "    project_irr = irr(cash_flows)\n",
        "\n",
        "    if project_npv > 0 and project_irr > discount_rate:\n",
        "        return \"Accept\"\n",
        "    else:\n",
        "        return \"Reject\"\n",
        "\n",
        "discount_rate = float(input(\"Enter discount rate: \"))\n",
        "cash_flows_input = input(\"Enter cash flows: \")\n",
        "cash_flows = [float(x) for x in cash_flows_input.split(\",\")]\n",
        "\n",
        "project_npv = npv(discount_rate, cash_flows)\n",
        "project_irr = irr(cash_flows)\n",
        "project_decision = decision(cash_flows, discount_rate)\n",
        "\n",
        "\n",
        "\n",
        "print(\"Cash Flows:\", cash_flows)\n",
        "print(\"Discount Rate:\", discount_rate*100, \"%\")\n",
        "print(\"NPV:\", npv(discount_rate, cash_flows))\n",
        "print(\"IRR:\", irr(cash_flows)*100, \"%\")\n",
        "print(\"Decision:\", decision(cash_flows, discount_rate))\n"
      ],
      "metadata": {
        "colab": {
          "base_uri": "https://localhost:8080/"
        },
        "id": "QY0qRXiz0VY9",
        "outputId": "fa483e80-9c10-4a93-d4e5-290b61d82207"
      },
      "execution_count": null,
      "outputs": [
        {
          "output_type": "stream",
          "name": "stdout",
          "text": [
            "Enter discount rate: 0.15\n",
            "Enter cash flows: -1200,500,480,350\n",
            "Cash Flows: [-1200.0, 500.0, 480.0, 350.0]\n",
            "Discount Rate: 0.15 %\n",
            "NPV: 126.24\n",
            "IRR: 5.7 %\n",
            "Decision: Accept\n"
          ]
        }
      ]
    },
    {
      "cell_type": "code",
      "source": [],
      "metadata": {
        "id": "xwq6T8QpMfgq"
      },
      "execution_count": null,
      "outputs": []
    },
    {
      "cell_type": "code",
      "source": [],
      "metadata": {
        "id": "T5ffd7cD2ecA"
      },
      "execution_count": null,
      "outputs": []
    }
  ]
}